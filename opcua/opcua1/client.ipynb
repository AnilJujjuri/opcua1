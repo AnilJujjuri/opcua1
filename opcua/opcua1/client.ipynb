{
 "cells": [
  {
   "cell_type": "code",
   "execution_count": 2,
   "id": "0ff3927d",
   "metadata": {},
   "outputs": [
    {
     "name": "stdout",
     "output_type": "stream",
     "text": [
      "Objects node is:  i=84\n",
      "Children of root are:  [Node(NumericNodeId(i=85)), Node(NumericNodeId(i=86)), Node(NumericNodeId(i=87))]\n",
      "myvar is:  ns=2;i=2\n",
      "myobj is:  ns=2;i=1\n",
      "1811.2999999994481\n"
     ]
    }
   ],
   "source": [
    "import sys\n",
    "sys.path.insert(0, \"..\")\n",
    "from opcua import Client\n",
    "\n",
    "if __name__ == \"__main__\":\n",
    "    client = Client(\"opc.tcp://localhost:4840/freeopcua/server/\")\n",
    "    #connect using a user\n",
    "    # client = Client(\"opc.tcp://admin@localhost:4840/freeopcua/server/\")\n",
    "    try:\n",
    "        client.connect()\n",
    "\n",
    "        # Client has a few methods to get proxy to UA nodes that\n",
    "        #  should always be in address space such as Root or Objects\n",
    "        root = client.get_root_node()\n",
    "        print(\"Objects node is: \", root)\n",
    "\n",
    "        # Node objects have methods to read and write node attributes\n",
    "        #  as well as browse or populate address space\n",
    "        print(\"Children of root are: \", root.get_children())\n",
    "\n",
    "        # get a specific node knowing its node id\n",
    "        #var = client.get_node(ua.NodeId(1002, 2))\n",
    "        #var = client.get_node(\"ns=3;i=2002\")\n",
    "        #print(var)\n",
    "        #var.get_data_value() # get value of node as a DataValue object\n",
    "        #var.get_value() # get value of node as a python builtin\n",
    "        #var.set_value(3.9) # set node value using implicit data type\n",
    "\n",
    "        # Now getting a variable node using its browse path\n",
    "        myvar = root.get_child([\"0:Objects\", \"2:MyObject\", \"2:MyVariable\"])\n",
    "        obj = root.get_child([\"0:Objects\", \"2:MyObject\"])\n",
    "        print(\"myvar is: \", myvar)\n",
    "        print(\"myobj is: \", obj)\n",
    "        print(myvar.get_value())\n",
    "\n",
    "    finally:\n",
    "        client.disconnect()"
   ]
  },
  {
   "cell_type": "code",
   "execution_count": 20,
   "id": "d36ae6bc",
   "metadata": {},
   "outputs": [
    {
     "name": "stdout",
     "output_type": "stream",
     "text": [
      "Requirement already satisfied: opcua-webclient in c:\\users\\40027782\\anaconda3\\lib\\site-packages (1.0.0)\n",
      "Requirement already satisfied: tornado in c:\\users\\40027782\\anaconda3\\lib\\site-packages (from opcua-webclient) (6.1)\n",
      "Requirement already satisfied: freeopcua in c:\\users\\40027782\\anaconda3\\lib\\site-packages (from opcua-webclient) (0.90.6)\n",
      "Requirement already satisfied: opcua in c:\\users\\40027782\\anaconda3\\lib\\site-packages (from freeopcua->opcua-webclient) (0.98.13)\n",
      "Requirement already satisfied: lxml in c:\\users\\40027782\\anaconda3\\lib\\site-packages (from opcua->freeopcua->opcua-webclient) (4.9.1)\n",
      "Requirement already satisfied: python-dateutil in c:\\users\\40027782\\anaconda3\\lib\\site-packages (from opcua->freeopcua->opcua-webclient) (2.8.2)\n",
      "Requirement already satisfied: pytz in c:\\users\\40027782\\anaconda3\\lib\\site-packages (from opcua->freeopcua->opcua-webclient) (2022.1)\n",
      "Requirement already satisfied: six>=1.5 in c:\\users\\40027782\\anaconda3\\lib\\site-packages (from python-dateutil->opcua->freeopcua->opcua-webclient) (1.16.0)\n",
      "Note: you may need to restart the kernel to use updated packages.\n"
     ]
    }
   ],
   "source": [
    "pip install opcua-webclient"
   ]
  },
  {
   "cell_type": "code",
   "execution_count": 24,
   "id": "3e022e5f",
   "metadata": {},
   "outputs": [
    {
     "ename": "SyntaxError",
     "evalue": "invalid syntax (1972256485.py, line 1)",
     "output_type": "error",
     "traceback": [
      "\u001b[1;36m  File \u001b[1;32m\"C:\\Users\\40027782\\AppData\\Local\\Temp\\ipykernel_11656\\1972256485.py\"\u001b[1;36m, line \u001b[1;32m1\u001b[0m\n\u001b[1;33m    python -m opcuawebclient\u001b[0m\n\u001b[1;37m              ^\u001b[0m\n\u001b[1;31mSyntaxError\u001b[0m\u001b[1;31m:\u001b[0m invalid syntax\n"
     ]
    }
   ],
   "source": [
    "python -m opcuawebclient "
   ]
  },
  {
   "cell_type": "code",
   "execution_count": null,
   "id": "f4569a1e",
   "metadata": {},
   "outputs": [],
   "source": []
  }
 ],
 "metadata": {
  "kernelspec": {
   "display_name": "Python 3 (ipykernel)",
   "language": "python",
   "name": "python3"
  },
  "language_info": {
   "codemirror_mode": {
    "name": "ipython",
    "version": 3
   },
   "file_extension": ".py",
   "mimetype": "text/x-python",
   "name": "python",
   "nbconvert_exporter": "python",
   "pygments_lexer": "ipython3",
   "version": "3.9.13"
  }
 },
 "nbformat": 4,
 "nbformat_minor": 5
}
