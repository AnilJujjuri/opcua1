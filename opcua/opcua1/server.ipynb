{
 "cells": [
  {
   "cell_type": "code",
   "execution_count": null,
   "id": "b0b5c745",
   "metadata": {},
   "outputs": [],
   "source": [
    "import sys\n",
    "sys.path.insert(0, \"..\")\n",
    "import time\n",
    "from opcua import ua, Server\n",
    "\n",
    "if __name__ == \"__main__\":\n",
    "\n",
    "    # setup our server\n",
    "    server = Server()\n",
    "    server.set_endpoint(\"opc.tcp://0.0.0.0:4840/freeopcua/server/\")\n",
    "\n",
    "    # setup our own namespace, not really necessary but should as spec\n",
    "    uri = \"http://examples.freeopcua.github.io\"\n",
    "    idx = server.register_namespace(uri)\n",
    "\n",
    "    # get Objects node, this is where we should put our nodes\n",
    "    objects = server.get_objects_node()\n",
    "\n",
    "    # populating our address space\n",
    "    myobj = objects.add_object(idx, \"MyObject\")\n",
    "    myvar = myobj.add_variable(idx, \"MyVariable\", 6.7)\n",
    "    myvar.set_writable()    # Set MyVariable to be writable by clients\n",
    "\n",
    "    # starting!\n",
    "    server.start()\n",
    "\n",
    "    try:\n",
    "        count = 0\n",
    "        while True:\n",
    "            time.sleep(1)\n",
    "            count += 0.1\n",
    "            myvar.set_value(count)\n",
    "    finally:\n",
    "        #close connection, remove subscriptions, etc\n",
    "        server.stop()"
   ]
  },
  {
   "cell_type": "code",
   "execution_count": null,
   "id": "6abf0d53",
   "metadata": {},
   "outputs": [],
   "source": []
  },
  {
   "cell_type": "code",
   "execution_count": null,
   "id": "ea5168ca",
   "metadata": {},
   "outputs": [],
   "source": [
    "\n"
   ]
  },
  {
   "cell_type": "code",
   "execution_count": null,
   "id": "ca980c6e",
   "metadata": {},
   "outputs": [],
   "source": []
  }
 ],
 "metadata": {
  "kernelspec": {
   "display_name": "Python 3 (ipykernel)",
   "language": "python",
   "name": "python3"
  },
  "language_info": {
   "codemirror_mode": {
    "name": "ipython",
    "version": 3
   },
   "file_extension": ".py",
   "mimetype": "text/x-python",
   "name": "python",
   "nbconvert_exporter": "python",
   "pygments_lexer": "ipython3",
   "version": "3.9.13"
  }
 },
 "nbformat": 4,
 "nbformat_minor": 5
}
